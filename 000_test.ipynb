{
 "cells": [
  {
   "cell_type": "code",
   "execution_count": 7,
   "metadata": {},
   "outputs": [
    {
     "name": "stdout",
     "output_type": "stream",
     "text": [
      "[[-1.         -1.         -1.41421356]\n",
      " [ 1.         -1.          0.        ]\n",
      " [-1.          1.          1.41421356]\n",
      " [ 1.          1.          0.        ]]\n",
      "[0.5        0.5        0.70710678] [0.5 0.5 1. ] [0.25 0.25 0.5 ]\n"
     ]
    }
   ],
   "source": [
    "import numpy as np\n",
    "import pandas as pd\n",
    "import datetime\n",
    "from keras.models import Sequential\n",
    "from keras.layers import Dense, Dropout, BatchNormalization, Activation\n",
    "from sklearn.model_selection import train_test_split\n",
    "from sklearn.preprocessing import StandardScaler\n",
    "from sklearn.utils import class_weight\n",
    "import tf2onnx\n",
    "import onnx\n",
    "import pickle\n",
    "from pathlib import Path\n",
    "\n",
    "scaler = StandardScaler()\n",
    "data = np.array([[0, 0, 0], [1, 0, 1], [0, 1, 2], [1, 1, 1]])\n",
    "\n",
    "data = scaler.fit_transform(data)\n",
    "print(data)\n",
    "print(scaler.scale_, scaler.mean_, scaler.var_)"
   ]
  },
  {
   "cell_type": "code",
   "execution_count": 16,
   "metadata": {},
   "outputs": [
    {
     "data": {
      "text/plain": [
       "array([[-1.        , -1.        , -1.41421356],\n",
       "       [ 1.        , -1.        ,  0.        ],\n",
       "       [-1.        ,  1.        ,  1.41421356],\n",
       "       [ 1.        ,  1.        ,  0.        ]])"
      ]
     },
     "execution_count": 16,
     "metadata": {},
     "output_type": "execute_result"
    }
   ],
   "source": [
    "data = np.array([[0, 0, 0], [1, 0, 1], [0, 1, 2], [1, 1, 1]])\n",
    "\n",
    "((data - scaler.mean_)/scaler.var_)*scaler.scale_"
   ]
  },
  {
   "cell_type": "code",
   "execution_count": 17,
   "metadata": {},
   "outputs": [
    {
     "data": {
      "text/plain": [
       "array([[-1.        , -1.        , -1.41421356],\n",
       "       [ 1.        , -1.        ,  0.        ],\n",
       "       [-1.        ,  1.        ,  1.41421356],\n",
       "       [ 1.        ,  1.        ,  0.        ]])"
      ]
     },
     "execution_count": 17,
     "metadata": {},
     "output_type": "execute_result"
    }
   ],
   "source": [
    "data = np.array([[0, 0, 0], [1, 0, 1], [0, 1, 2], [1, 1, 1]])\n",
    "\n",
    "(data - scaler.mean_)/scaler.scale_"
   ]
  },
  {
   "cell_type": "code",
   "execution_count": 19,
   "metadata": {},
   "outputs": [],
   "source": [
    "import numpy as np\n",
    "np.savetxt('scaler_mean.txt', scaler.mean_)\n",
    "np.savetxt('scaler_scale.txt', scaler.scale_)"
   ]
  },
  {
   "cell_type": "code",
   "execution_count": 23,
   "metadata": {},
   "outputs": [
    {
     "name": "stdout",
     "output_type": "stream",
     "text": [
      "[0.5        0.5        0.70710678]\n",
      "[0.25 0.25 0.5 ]\n",
      "[0.5 0.5 1. ]\n"
     ]
    }
   ],
   "source": [
    "print(np.std(data, axis=0))\n",
    "print(np.var(data, axis=0))\n",
    "print(np.mean(data, axis=0))"
   ]
  }
 ],
 "metadata": {
  "kernelspec": {
   "display_name": "venv",
   "language": "python",
   "name": "python3"
  },
  "language_info": {
   "codemirror_mode": {
    "name": "ipython",
    "version": 3
   },
   "file_extension": ".py",
   "mimetype": "text/x-python",
   "name": "python",
   "nbconvert_exporter": "python",
   "pygments_lexer": "ipython3",
   "version": "3.11.6"
  }
 },
 "nbformat": 4,
 "nbformat_minor": 2
}
